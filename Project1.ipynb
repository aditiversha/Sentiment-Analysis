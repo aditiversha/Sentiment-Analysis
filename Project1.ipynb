{
 "cells": [
  {
   "cell_type": "code",
   "execution_count": 1,
   "metadata": {},
   "outputs": [],
   "source": [
    "#This project requires you to download yfinance, BeautifulSoup, Matplotlib & NLTK packages. \n",
    "#Incase you don't have them installed, type the following commands in your python terminal - (python version 3.7).\n",
    "#pip install yfinance\n",
    "#pip install beautifulsoup4\n",
    "#pip install nltk\n",
    "#pip install matplotlib"
   ]
  },
  {
   "cell_type": "markdown",
   "metadata": {},
   "source": [
    "## Importing Libraries"
   ]
  },
  {
   "cell_type": "code",
   "execution_count": 2,
   "metadata": {},
   "outputs": [],
   "source": [
    "#importing libraries\n",
    "from urllib.request import urlopen, Request\n",
    "from bs4 import BeautifulSoup\n",
    "import nltk\n",
    "#Uncomment the line below if your system does not have 'vader-lexicon' installed\n",
    "#nltk.download('vader_lexicon')"
   ]
  },
  {
   "cell_type": "code",
   "execution_count": 3,
   "metadata": {},
   "outputs": [],
   "source": [
    "from nltk.sentiment.vader import SentimentIntensityAnalyzer\n",
    "import pandas as pd\n",
    "import matplotlib.pyplot as plt\n",
    "import yfinance as yf\n",
    "import seaborn as sns"
   ]
  },
  {
   "cell_type": "markdown",
   "metadata": {},
   "source": [
    "## Data Processing\n",
    "\n",
    "#### Includes the following:\n",
    "1. Choosing Tickers\n",
    "2. Requesting data from URL\n",
    "3. Data Processing"
   ]
  },
  {
   "cell_type": "code",
   "execution_count": 4,
   "metadata": {},
   "outputs": [],
   "source": [
    "#Defining finviz url\n",
    "finviz_url = 'https://finviz.com/quote.ashx?t='"
   ]
  },
  {
   "cell_type": "code",
   "execution_count": 5,
   "metadata": {},
   "outputs": [],
   "source": [
    "tickers = ['AMZN','FB', 'GOOG','AAPL','TSLA']"
   ]
  },
  {
   "cell_type": "code",
   "execution_count": 6,
   "metadata": {},
   "outputs": [],
   "source": [
    "news_tables = {}"
   ]
  },
  {
   "cell_type": "code",
   "execution_count": 7,
   "metadata": {},
   "outputs": [],
   "source": [
    "#Requesting data \n",
    "for ticker in tickers:\n",
    "    url = finviz_url + ticker\n",
    "    req = Request(url = url, headers = {'user-agent':'my-app'})\n",
    "    response = urlopen(req)\n",
    "    \n",
    "    #Parsing HTML documents using Beautiful Soup\n",
    "    html = BeautifulSoup(response,'html')\n",
    "    \n",
    "    #Saving the News Table in a dictionary\n",
    "    news_table = html.find(id = 'news-table')\n",
    "    news_tables[ticker] = news_table"
   ]
  },
  {
   "cell_type": "code",
   "execution_count": 8,
   "metadata": {},
   "outputs": [],
   "source": [
    "#Test Run\n",
    "#fb_data = news_table['FB']\n",
    "#fb_rows = fb_data.findAll('tr')"
   ]
  },
  {
   "cell_type": "code",
   "execution_count": 9,
   "metadata": {},
   "outputs": [],
   "source": [
    "#for index, row in enumerate(fb_rows):\n",
    "    #title = row.a.text()\n",
    "    #timestamp = row.td.text\n",
    "    #print(timestamp + ' ' + title)"
   ]
  },
  {
   "cell_type": "code",
   "execution_count": 10,
   "metadata": {},
   "outputs": [],
   "source": [
    "parsed_data=[]"
   ]
  },
  {
   "cell_type": "code",
   "execution_count": 11,
   "metadata": {},
   "outputs": [],
   "source": [
    "#Decomposing the dictionary 4 into relevant items - Ticker, Date,Time, News Title\n",
    "for ticker, news_table in news_tables.items():\n",
    "    for row in news_table.findAll('tr'):\n",
    "        title = row.a.get_text()\n",
    "        #Splitting date after every space\n",
    "        date_data = row.td.text.split(' ')\n",
    "        \n",
    "        #Check if date_data has two elements (date + time) or just 1 element (time)\n",
    "        if len(date_data)==1:\n",
    "            time=date_data[0]\n",
    "        else:\n",
    "            date = date_data[0]\n",
    "            time = date_data[1]\n",
    "        \n",
    "        #Appending decomposed items into a list\n",
    "        parsed_data.append([ticker, date, time, title])"
   ]
  },
  {
   "cell_type": "code",
   "execution_count": 12,
   "metadata": {},
   "outputs": [],
   "source": [
    "#Converting list into dataframe\n",
    "df = pd.DataFrame(parsed_data,columns=['Ticker', 'Date', 'Time', 'Title'])"
   ]
  },
  {
   "cell_type": "code",
   "execution_count": 13,
   "metadata": {},
   "outputs": [
    {
     "data": {
      "text/html": [
       "<div>\n",
       "<style scoped>\n",
       "    .dataframe tbody tr th:only-of-type {\n",
       "        vertical-align: middle;\n",
       "    }\n",
       "\n",
       "    .dataframe tbody tr th {\n",
       "        vertical-align: top;\n",
       "    }\n",
       "\n",
       "    .dataframe thead th {\n",
       "        text-align: right;\n",
       "    }\n",
       "</style>\n",
       "<table border=\"1\" class=\"dataframe\">\n",
       "  <thead>\n",
       "    <tr style=\"text-align: right;\">\n",
       "      <th></th>\n",
       "      <th>Ticker</th>\n",
       "      <th>Date</th>\n",
       "      <th>Time</th>\n",
       "      <th>Title</th>\n",
       "    </tr>\n",
       "  </thead>\n",
       "  <tbody>\n",
       "    <tr>\n",
       "      <th>0</th>\n",
       "      <td>AMZN</td>\n",
       "      <td>Mar-14-21</td>\n",
       "      <td>08:15AM</td>\n",
       "      <td>2 Top Value Stocks to Buy Right Now</td>\n",
       "    </tr>\n",
       "    <tr>\n",
       "      <th>1</th>\n",
       "      <td>AMZN</td>\n",
       "      <td>Mar-14-21</td>\n",
       "      <td>07:07AM</td>\n",
       "      <td>Here's How SpaceX Plans to Dominate the Space ...</td>\n",
       "    </tr>\n",
       "    <tr>\n",
       "      <th>2</th>\n",
       "      <td>AMZN</td>\n",
       "      <td>Mar-14-21</td>\n",
       "      <td>07:05AM</td>\n",
       "      <td>3 Stocks to Buy and Hold for Decades</td>\n",
       "    </tr>\n",
       "    <tr>\n",
       "      <th>3</th>\n",
       "      <td>AMZN</td>\n",
       "      <td>Mar-14-21</td>\n",
       "      <td>06:45AM</td>\n",
       "      <td>These 3 Tech Stocks Are Building the Future</td>\n",
       "    </tr>\n",
       "    <tr>\n",
       "      <th>4</th>\n",
       "      <td>AMZN</td>\n",
       "      <td>Mar-14-21</td>\n",
       "      <td>05:15AM</td>\n",
       "      <td>3.14 Ways to Start Investing</td>\n",
       "    </tr>\n",
       "  </tbody>\n",
       "</table>\n",
       "</div>"
      ],
      "text/plain": [
       "  Ticker       Date       Time  \\\n",
       "0   AMZN  Mar-14-21  08:15AM     \n",
       "1   AMZN  Mar-14-21  07:07AM     \n",
       "2   AMZN  Mar-14-21  07:05AM     \n",
       "3   AMZN  Mar-14-21  06:45AM     \n",
       "4   AMZN  Mar-14-21  05:15AM     \n",
       "\n",
       "                                               Title  \n",
       "0                2 Top Value Stocks to Buy Right Now  \n",
       "1  Here's How SpaceX Plans to Dominate the Space ...  \n",
       "2               3 Stocks to Buy and Hold for Decades  \n",
       "3        These 3 Tech Stocks Are Building the Future  \n",
       "4                       3.14 Ways to Start Investing  "
      ]
     },
     "execution_count": 13,
     "metadata": {},
     "output_type": "execute_result"
    }
   ],
   "source": [
    "df.head()"
   ]
  },
  {
   "cell_type": "markdown",
   "metadata": {},
   "source": [
    "## Calculating Sentiment Score of the Text\n",
    "\n",
    "#### Includes the following\n",
    "1. Compute compound scores using polarity_scores()\n",
    "2. Convert String Date to Date Format\n",
    "3. Compute mean of compound scores & store it new dataframe\n",
    "4. Processing the above dataframe for easy usage"
   ]
  },
  {
   "cell_type": "code",
   "execution_count": 14,
   "metadata": {},
   "outputs": [],
   "source": [
    "#Calling Sentiment Intensity Analyzer Function & assigning it to variable 'vader'\n",
    "vader = SentimentIntensityAnalyzer()"
   ]
  },
  {
   "cell_type": "code",
   "execution_count": 15,
   "metadata": {},
   "outputs": [],
   "source": [
    "#Function 'f' to calculate polarity scores of News Title\n",
    "#Interested only in compound Scores\n",
    "f = lambda title: vader.polarity_scores(title)['compound']\n",
    "df['Compound'] = df['Title'].apply(f)"
   ]
  },
  {
   "cell_type": "code",
   "execution_count": 16,
   "metadata": {},
   "outputs": [
    {
     "data": {
      "text/html": [
       "<div>\n",
       "<style scoped>\n",
       "    .dataframe tbody tr th:only-of-type {\n",
       "        vertical-align: middle;\n",
       "    }\n",
       "\n",
       "    .dataframe tbody tr th {\n",
       "        vertical-align: top;\n",
       "    }\n",
       "\n",
       "    .dataframe thead th {\n",
       "        text-align: right;\n",
       "    }\n",
       "</style>\n",
       "<table border=\"1\" class=\"dataframe\">\n",
       "  <thead>\n",
       "    <tr style=\"text-align: right;\">\n",
       "      <th></th>\n",
       "      <th>Ticker</th>\n",
       "      <th>Date</th>\n",
       "      <th>Time</th>\n",
       "      <th>Title</th>\n",
       "      <th>Compound</th>\n",
       "    </tr>\n",
       "  </thead>\n",
       "  <tbody>\n",
       "    <tr>\n",
       "      <th>0</th>\n",
       "      <td>AMZN</td>\n",
       "      <td>Mar-14-21</td>\n",
       "      <td>08:15AM</td>\n",
       "      <td>2 Top Value Stocks to Buy Right Now</td>\n",
       "      <td>0.4939</td>\n",
       "    </tr>\n",
       "    <tr>\n",
       "      <th>1</th>\n",
       "      <td>AMZN</td>\n",
       "      <td>Mar-14-21</td>\n",
       "      <td>07:07AM</td>\n",
       "      <td>Here's How SpaceX Plans to Dominate the Space ...</td>\n",
       "      <td>-0.1280</td>\n",
       "    </tr>\n",
       "    <tr>\n",
       "      <th>2</th>\n",
       "      <td>AMZN</td>\n",
       "      <td>Mar-14-21</td>\n",
       "      <td>07:05AM</td>\n",
       "      <td>3 Stocks to Buy and Hold for Decades</td>\n",
       "      <td>0.0000</td>\n",
       "    </tr>\n",
       "    <tr>\n",
       "      <th>3</th>\n",
       "      <td>AMZN</td>\n",
       "      <td>Mar-14-21</td>\n",
       "      <td>06:45AM</td>\n",
       "      <td>These 3 Tech Stocks Are Building the Future</td>\n",
       "      <td>0.0000</td>\n",
       "    </tr>\n",
       "    <tr>\n",
       "      <th>4</th>\n",
       "      <td>AMZN</td>\n",
       "      <td>Mar-14-21</td>\n",
       "      <td>05:15AM</td>\n",
       "      <td>3.14 Ways to Start Investing</td>\n",
       "      <td>0.0000</td>\n",
       "    </tr>\n",
       "  </tbody>\n",
       "</table>\n",
       "</div>"
      ],
      "text/plain": [
       "  Ticker       Date       Time  \\\n",
       "0   AMZN  Mar-14-21  08:15AM     \n",
       "1   AMZN  Mar-14-21  07:07AM     \n",
       "2   AMZN  Mar-14-21  07:05AM     \n",
       "3   AMZN  Mar-14-21  06:45AM     \n",
       "4   AMZN  Mar-14-21  05:15AM     \n",
       "\n",
       "                                               Title  Compound  \n",
       "0                2 Top Value Stocks to Buy Right Now    0.4939  \n",
       "1  Here's How SpaceX Plans to Dominate the Space ...   -0.1280  \n",
       "2               3 Stocks to Buy and Hold for Decades    0.0000  \n",
       "3        These 3 Tech Stocks Are Building the Future    0.0000  \n",
       "4                       3.14 Ways to Start Investing    0.0000  "
      ]
     },
     "execution_count": 16,
     "metadata": {},
     "output_type": "execute_result"
    }
   ],
   "source": [
    "df.head()"
   ]
  },
  {
   "cell_type": "code",
   "execution_count": 17,
   "metadata": {},
   "outputs": [],
   "source": [
    "#Converting Date column (string) data into Date format\n",
    "df['Date'] = pd.to_datetime(df.Date).dt.date"
   ]
  },
  {
   "cell_type": "code",
   "execution_count": 18,
   "metadata": {},
   "outputs": [
    {
     "data": {
      "text/html": [
       "<div>\n",
       "<style scoped>\n",
       "    .dataframe tbody tr th:only-of-type {\n",
       "        vertical-align: middle;\n",
       "    }\n",
       "\n",
       "    .dataframe tbody tr th {\n",
       "        vertical-align: top;\n",
       "    }\n",
       "\n",
       "    .dataframe thead th {\n",
       "        text-align: right;\n",
       "    }\n",
       "</style>\n",
       "<table border=\"1\" class=\"dataframe\">\n",
       "  <thead>\n",
       "    <tr style=\"text-align: right;\">\n",
       "      <th></th>\n",
       "      <th></th>\n",
       "      <th>Compound</th>\n",
       "    </tr>\n",
       "    <tr>\n",
       "      <th>Ticker</th>\n",
       "      <th>Date</th>\n",
       "      <th></th>\n",
       "    </tr>\n",
       "  </thead>\n",
       "  <tbody>\n",
       "    <tr>\n",
       "      <th rowspan=\"5\" valign=\"top\">AAPL</th>\n",
       "      <th>2021-03-09</th>\n",
       "      <td>0.044606</td>\n",
       "    </tr>\n",
       "    <tr>\n",
       "      <th>2021-03-10</th>\n",
       "      <td>0.005939</td>\n",
       "    </tr>\n",
       "    <tr>\n",
       "      <th>2021-03-11</th>\n",
       "      <td>0.070805</td>\n",
       "    </tr>\n",
       "    <tr>\n",
       "      <th>2021-03-12</th>\n",
       "      <td>0.184770</td>\n",
       "    </tr>\n",
       "    <tr>\n",
       "      <th>2021-03-13</th>\n",
       "      <td>0.053990</td>\n",
       "    </tr>\n",
       "  </tbody>\n",
       "</table>\n",
       "</div>"
      ],
      "text/plain": [
       "                   Compound\n",
       "Ticker Date                \n",
       "AAPL   2021-03-09  0.044606\n",
       "       2021-03-10  0.005939\n",
       "       2021-03-11  0.070805\n",
       "       2021-03-12  0.184770\n",
       "       2021-03-13  0.053990"
      ]
     },
     "execution_count": 18,
     "metadata": {},
     "output_type": "execute_result"
    }
   ],
   "source": [
    "#Creating a new dataframe using Groupby function & storing mean of compound scores\n",
    "mean_df = df.groupby(['Ticker','Date']).mean()\n",
    "mean_df.head()"
   ]
  },
  {
   "cell_type": "code",
   "execution_count": 19,
   "metadata": {},
   "outputs": [
    {
     "data": {
      "text/html": [
       "<div>\n",
       "<style scoped>\n",
       "    .dataframe tbody tr th:only-of-type {\n",
       "        vertical-align: middle;\n",
       "    }\n",
       "\n",
       "    .dataframe tbody tr th {\n",
       "        vertical-align: top;\n",
       "    }\n",
       "\n",
       "    .dataframe thead th {\n",
       "        text-align: right;\n",
       "    }\n",
       "</style>\n",
       "<table border=\"1\" class=\"dataframe\">\n",
       "  <thead>\n",
       "    <tr style=\"text-align: right;\">\n",
       "      <th>Ticker</th>\n",
       "      <th>AAPL</th>\n",
       "      <th>AMZN</th>\n",
       "      <th>FB</th>\n",
       "      <th>GOOG</th>\n",
       "      <th>TSLA</th>\n",
       "    </tr>\n",
       "    <tr>\n",
       "      <th>Date</th>\n",
       "      <th></th>\n",
       "      <th></th>\n",
       "      <th></th>\n",
       "      <th></th>\n",
       "      <th></th>\n",
       "    </tr>\n",
       "  </thead>\n",
       "  <tbody>\n",
       "    <tr>\n",
       "      <th>2021-03-05</th>\n",
       "      <td>NaN</td>\n",
       "      <td>NaN</td>\n",
       "      <td>0.088057</td>\n",
       "      <td>0.168750</td>\n",
       "      <td>NaN</td>\n",
       "    </tr>\n",
       "    <tr>\n",
       "      <th>2021-03-06</th>\n",
       "      <td>NaN</td>\n",
       "      <td>NaN</td>\n",
       "      <td>0.318450</td>\n",
       "      <td>0.208140</td>\n",
       "      <td>NaN</td>\n",
       "    </tr>\n",
       "    <tr>\n",
       "      <th>2021-03-07</th>\n",
       "      <td>NaN</td>\n",
       "      <td>NaN</td>\n",
       "      <td>0.399600</td>\n",
       "      <td>-0.048833</td>\n",
       "      <td>NaN</td>\n",
       "    </tr>\n",
       "    <tr>\n",
       "      <th>2021-03-08</th>\n",
       "      <td>NaN</td>\n",
       "      <td>NaN</td>\n",
       "      <td>0.103231</td>\n",
       "      <td>0.135650</td>\n",
       "      <td>NaN</td>\n",
       "    </tr>\n",
       "    <tr>\n",
       "      <th>2021-03-09</th>\n",
       "      <td>0.044606</td>\n",
       "      <td>0.36755</td>\n",
       "      <td>-0.061148</td>\n",
       "      <td>0.033005</td>\n",
       "      <td>NaN</td>\n",
       "    </tr>\n",
       "  </tbody>\n",
       "</table>\n",
       "</div>"
      ],
      "text/plain": [
       "Ticker          AAPL     AMZN        FB      GOOG  TSLA\n",
       "Date                                                   \n",
       "2021-03-05       NaN      NaN  0.088057  0.168750   NaN\n",
       "2021-03-06       NaN      NaN  0.318450  0.208140   NaN\n",
       "2021-03-07       NaN      NaN  0.399600 -0.048833   NaN\n",
       "2021-03-08       NaN      NaN  0.103231  0.135650   NaN\n",
       "2021-03-09  0.044606  0.36755 -0.061148  0.033005   NaN"
      ]
     },
     "execution_count": 19,
     "metadata": {},
     "output_type": "execute_result"
    }
   ],
   "source": [
    "#convert the dataframe into unstacked format.\n",
    "mean_df = mean_df.unstack()\n",
    "\n",
    "#Transposing the matrix:\n",
    "#1. Ticker Row is converted to Columns\n",
    "#2. The xs() function is used to get cross-section from the Series/DataFrame.\n",
    "#This method takes a key argument to select data at a particular level of a MultiIndex.\n",
    "\n",
    "mean_df = mean_df.xs('Compound',axis='columns').transpose()\n",
    "mean_df.head()"
   ]
  },
  {
   "cell_type": "code",
   "execution_count": 20,
   "metadata": {},
   "outputs": [
    {
     "data": {
      "image/png": "[encoded data removed]",
      "text/plain": [
       "<Figure size 1296x576 with 1 Axes>"
      ]
     },
     "metadata": {
      "needs_background": "light"
     },
     "output_type": "display_data"
    }
   ],
   "source": [
    "#Plot Compound Scores of each stock into a Bar chart\n",
    "mean_df.plot(kind='bar',figsize=(18,8),grid=True)\n",
    "plt.show()"
   ]
  },
  {
   "cell_type": "markdown",
   "metadata": {},
   "source": [
    "## Download historical data\n",
    "\n",
    "#### Includes the following:\n",
    "1. Download Historical Data\n",
    "2. Calculate Daily Returns "
   ]
  },
  {
   "cell_type": "code",
   "execution_count": 21,
   "metadata": {},
   "outputs": [
    {
     "name": "stdout",
     "output_type": "stream",
     "text": [
      "[*********************100%***********************]  1 of 1 completed\n",
      "[*********************100%***********************]  1 of 1 completed\n",
      "[*********************100%***********************]  1 of 1 completed\n",
      "[*********************100%***********************]  1 of 1 completed\n",
      "[*********************100%***********************]  1 of 1 completed\n"
     ]
    }
   ],
   "source": [
    "#Downloading historical data using yfinance. We are interested only in 'Adjusted Closing Price'\n",
    "df2 = pd.DataFrame()\n",
    "#Assigning the startdate as the first date in mean_df dataframe\n",
    "startdate = mean_df.index[0]\n",
    "#Optional : Assigning the enddate as the last date in mean_df dataframe\n",
    "enddate = mean_df.index[-1]\n",
    "for ticker in tickers:\n",
    "    df2[ticker] = yf.download(ticker,start = startdate, end = enddate)['Adj Close']"
   ]
  },
  {
   "cell_type": "code",
   "execution_count": 22,
   "metadata": {},
   "outputs": [
    {
     "data": {
      "text/html": [
       "<div>\n",
       "<style scoped>\n",
       "    .dataframe tbody tr th:only-of-type {\n",
       "        vertical-align: middle;\n",
       "    }\n",
       "\n",
       "    .dataframe tbody tr th {\n",
       "        vertical-align: top;\n",
       "    }\n",
       "\n",
       "    .dataframe thead th {\n",
       "        text-align: right;\n",
       "    }\n",
       "</style>\n",
       "<table border=\"1\" class=\"dataframe\">\n",
       "  <thead>\n",
       "    <tr style=\"text-align: right;\">\n",
       "      <th></th>\n",
       "      <th>AMZN</th>\n",
       "      <th>FB</th>\n",
       "      <th>GOOG</th>\n",
       "      <th>AAPL</th>\n",
       "      <th>TSLA</th>\n",
       "    </tr>\n",
       "    <tr>\n",
       "      <th>Date</th>\n",
       "      <th></th>\n",
       "      <th></th>\n",
       "      <th></th>\n",
       "      <th></th>\n",
       "      <th></th>\n",
       "    </tr>\n",
       "  </thead>\n",
       "  <tbody>\n",
       "    <tr>\n",
       "      <th>2021-03-04</th>\n",
       "      <td>2977.570068</td>\n",
       "      <td>257.640015</td>\n",
       "      <td>2049.090088</td>\n",
       "      <td>120.129997</td>\n",
       "      <td>621.440002</td>\n",
       "    </tr>\n",
       "    <tr>\n",
       "      <th>2021-03-05</th>\n",
       "      <td>3000.459961</td>\n",
       "      <td>264.279999</td>\n",
       "      <td>2108.540039</td>\n",
       "      <td>121.419998</td>\n",
       "      <td>597.950012</td>\n",
       "    </tr>\n",
       "    <tr>\n",
       "      <th>2021-03-08</th>\n",
       "      <td>2951.949951</td>\n",
       "      <td>255.309998</td>\n",
       "      <td>2024.170044</td>\n",
       "      <td>116.360001</td>\n",
       "      <td>563.000000</td>\n",
       "    </tr>\n",
       "    <tr>\n",
       "      <th>2021-03-09</th>\n",
       "      <td>3062.850098</td>\n",
       "      <td>265.739990</td>\n",
       "      <td>2052.699951</td>\n",
       "      <td>121.089996</td>\n",
       "      <td>673.580017</td>\n",
       "    </tr>\n",
       "    <tr>\n",
       "      <th>2021-03-10</th>\n",
       "      <td>3057.639893</td>\n",
       "      <td>264.899994</td>\n",
       "      <td>2055.030029</td>\n",
       "      <td>119.980003</td>\n",
       "      <td>668.059998</td>\n",
       "    </tr>\n",
       "  </tbody>\n",
       "</table>\n",
       "</div>"
      ],
      "text/plain": [
       "                   AMZN          FB         GOOG        AAPL        TSLA\n",
       "Date                                                                    \n",
       "2021-03-04  2977.570068  257.640015  2049.090088  120.129997  621.440002\n",
       "2021-03-05  3000.459961  264.279999  2108.540039  121.419998  597.950012\n",
       "2021-03-08  2951.949951  255.309998  2024.170044  116.360001  563.000000\n",
       "2021-03-09  3062.850098  265.739990  2052.699951  121.089996  673.580017\n",
       "2021-03-10  3057.639893  264.899994  2055.030029  119.980003  668.059998"
      ]
     },
     "execution_count": 22,
     "metadata": {},
     "output_type": "execute_result"
    }
   ],
   "source": [
    "df2.head()"
   ]
  },
  {
   "cell_type": "code",
   "execution_count": 23,
   "metadata": {},
   "outputs": [
    {
     "data": {
      "text/html": [
       "<div>\n",
       "<style scoped>\n",
       "    .dataframe tbody tr th:only-of-type {\n",
       "        vertical-align: middle;\n",
       "    }\n",
       "\n",
       "    .dataframe tbody tr th {\n",
       "        vertical-align: top;\n",
       "    }\n",
       "\n",
       "    .dataframe thead th {\n",
       "        text-align: right;\n",
       "    }\n",
       "</style>\n",
       "<table border=\"1\" class=\"dataframe\">\n",
       "  <thead>\n",
       "    <tr style=\"text-align: right;\">\n",
       "      <th></th>\n",
       "      <th>AMZN</th>\n",
       "      <th>FB</th>\n",
       "      <th>GOOG</th>\n",
       "      <th>AAPL</th>\n",
       "      <th>TSLA</th>\n",
       "    </tr>\n",
       "    <tr>\n",
       "      <th>Date</th>\n",
       "      <th></th>\n",
       "      <th></th>\n",
       "      <th></th>\n",
       "      <th></th>\n",
       "      <th></th>\n",
       "    </tr>\n",
       "  </thead>\n",
       "  <tbody>\n",
       "    <tr>\n",
       "      <th>2021-03-08</th>\n",
       "      <td>2951.949951</td>\n",
       "      <td>255.309998</td>\n",
       "      <td>2024.170044</td>\n",
       "      <td>116.360001</td>\n",
       "      <td>563.000000</td>\n",
       "    </tr>\n",
       "    <tr>\n",
       "      <th>2021-03-09</th>\n",
       "      <td>3062.850098</td>\n",
       "      <td>265.739990</td>\n",
       "      <td>2052.699951</td>\n",
       "      <td>121.089996</td>\n",
       "      <td>673.580017</td>\n",
       "    </tr>\n",
       "    <tr>\n",
       "      <th>2021-03-10</th>\n",
       "      <td>3057.639893</td>\n",
       "      <td>264.899994</td>\n",
       "      <td>2055.030029</td>\n",
       "      <td>119.980003</td>\n",
       "      <td>668.059998</td>\n",
       "    </tr>\n",
       "    <tr>\n",
       "      <th>2021-03-11</th>\n",
       "      <td>3113.590088</td>\n",
       "      <td>273.880005</td>\n",
       "      <td>2114.770020</td>\n",
       "      <td>121.959999</td>\n",
       "      <td>699.599976</td>\n",
       "    </tr>\n",
       "    <tr>\n",
       "      <th>2021-03-12</th>\n",
       "      <td>3089.489990</td>\n",
       "      <td>268.399994</td>\n",
       "      <td>2061.919922</td>\n",
       "      <td>121.029999</td>\n",
       "      <td>693.729980</td>\n",
       "    </tr>\n",
       "  </tbody>\n",
       "</table>\n",
       "</div>"
      ],
      "text/plain": [
       "                   AMZN          FB         GOOG        AAPL        TSLA\n",
       "Date                                                                    \n",
       "2021-03-08  2951.949951  255.309998  2024.170044  116.360001  563.000000\n",
       "2021-03-09  3062.850098  265.739990  2052.699951  121.089996  673.580017\n",
       "2021-03-10  3057.639893  264.899994  2055.030029  119.980003  668.059998\n",
       "2021-03-11  3113.590088  273.880005  2114.770020  121.959999  699.599976\n",
       "2021-03-12  3089.489990  268.399994  2061.919922  121.029999  693.729980"
      ]
     },
     "execution_count": 23,
     "metadata": {},
     "output_type": "execute_result"
    }
   ],
   "source": [
    "df2.tail()"
   ]
  },
  {
   "cell_type": "code",
   "execution_count": 24,
   "metadata": {
    "scrolled": true
   },
   "outputs": [
    {
     "data": {
      "text/html": [
       "<div>\n",
       "<style scoped>\n",
       "    .dataframe tbody tr th:only-of-type {\n",
       "        vertical-align: middle;\n",
       "    }\n",
       "\n",
       "    .dataframe tbody tr th {\n",
       "        vertical-align: top;\n",
       "    }\n",
       "\n",
       "    .dataframe thead th {\n",
       "        text-align: right;\n",
       "    }\n",
       "</style>\n",
       "<table border=\"1\" class=\"dataframe\">\n",
       "  <thead>\n",
       "    <tr style=\"text-align: right;\">\n",
       "      <th></th>\n",
       "      <th>AMZN</th>\n",
       "      <th>FB</th>\n",
       "      <th>GOOG</th>\n",
       "      <th>AAPL</th>\n",
       "      <th>TSLA</th>\n",
       "    </tr>\n",
       "    <tr>\n",
       "      <th>Date</th>\n",
       "      <th></th>\n",
       "      <th></th>\n",
       "      <th></th>\n",
       "      <th></th>\n",
       "      <th></th>\n",
       "    </tr>\n",
       "  </thead>\n",
       "  <tbody>\n",
       "    <tr>\n",
       "      <th>2021-03-08</th>\n",
       "      <td>-0.016168</td>\n",
       "      <td>-0.033941</td>\n",
       "      <td>-0.040013</td>\n",
       "      <td>-0.041674</td>\n",
       "      <td>-0.058450</td>\n",
       "    </tr>\n",
       "    <tr>\n",
       "      <th>2021-03-09</th>\n",
       "      <td>0.037568</td>\n",
       "      <td>0.040852</td>\n",
       "      <td>0.014095</td>\n",
       "      <td>0.040650</td>\n",
       "      <td>0.196412</td>\n",
       "    </tr>\n",
       "    <tr>\n",
       "      <th>2021-03-10</th>\n",
       "      <td>-0.001701</td>\n",
       "      <td>-0.003161</td>\n",
       "      <td>0.001135</td>\n",
       "      <td>-0.009167</td>\n",
       "      <td>-0.008195</td>\n",
       "    </tr>\n",
       "    <tr>\n",
       "      <th>2021-03-11</th>\n",
       "      <td>0.018298</td>\n",
       "      <td>0.033900</td>\n",
       "      <td>0.029070</td>\n",
       "      <td>0.016503</td>\n",
       "      <td>0.047211</td>\n",
       "    </tr>\n",
       "    <tr>\n",
       "      <th>2021-03-12</th>\n",
       "      <td>-0.007740</td>\n",
       "      <td>-0.020009</td>\n",
       "      <td>-0.024991</td>\n",
       "      <td>-0.007625</td>\n",
       "      <td>-0.008391</td>\n",
       "    </tr>\n",
       "  </tbody>\n",
       "</table>\n",
       "</div>"
      ],
      "text/plain": [
       "                AMZN        FB      GOOG      AAPL      TSLA\n",
       "Date                                                        \n",
       "2021-03-08 -0.016168 -0.033941 -0.040013 -0.041674 -0.058450\n",
       "2021-03-09  0.037568  0.040852  0.014095  0.040650  0.196412\n",
       "2021-03-10 -0.001701 -0.003161  0.001135 -0.009167 -0.008195\n",
       "2021-03-11  0.018298  0.033900  0.029070  0.016503  0.047211\n",
       "2021-03-12 -0.007740 -0.020009 -0.024991 -0.007625 -0.008391"
      ]
     },
     "execution_count": 24,
     "metadata": {},
     "output_type": "execute_result"
    }
   ],
   "source": [
    "#Daily Returns\n",
    "df2_returns = df2.pct_change()\n",
    "df2_returns.tail()"
   ]
  },
  {
   "cell_type": "markdown",
   "metadata": {},
   "source": [
    "## Data Analysis\n",
    "\n",
    "#### Includes the following:\n",
    "1. Understand the correlation between Daily Returns & Sentiment Score\n",
    "2. Visualize the daily returns correlation"
   ]
  },
  {
   "cell_type": "code",
   "execution_count": 25,
   "metadata": {},
   "outputs": [
    {
     "data": {
      "text/plain": [
       "AMZN    0.557962\n",
       "FB     -0.320333\n",
       "GOOG    0.168203\n",
       "AAPL   -0.289342\n",
       "TSLA    0.821090\n",
       "dtype: float64"
      ]
     },
     "execution_count": 25,
     "metadata": {},
     "output_type": "execute_result"
    }
   ],
   "source": [
    "df2_returns.corrwith(mean_df)"
   ]
  },
  {
   "cell_type": "code",
   "execution_count": 26,
   "metadata": {},
   "outputs": [
    {
     "data": {
      "text/plain": [
       "<matplotlib.axes._subplots.AxesSubplot at 0x2bdbd212988>"
      ]
     },
     "execution_count": 26,
     "metadata": {},
     "output_type": "execute_result"
    },
    {
     "data": {
      "image/png": "[encoded data removed]",
      "text/plain": [
       "<Figure size 720x720 with 2 Axes>"
      ]
     },
     "metadata": {
      "needs_background": "light"
     },
     "output_type": "display_data"
    }
   ],
   "source": [
    "plt.figure(figsize=(10,10))\n",
    "corr1 = df2_returns.corr()\n",
    "sns.heatmap(corr1, annot = True)"
   ]
  }
 ],
 "metadata": {
  "kernelspec": {
   "display_name": "Python 3",
   "language": "python",
   "name": "python3"
  },
  "language_info": {
   "codemirror_mode": {
    "name": "ipython",
    "version": 3
   },
   "file_extension": ".py",
   "mimetype": "text/x-python",
   "name": "python",
   "nbconvert_exporter": "python",
   "pygments_lexer": "ipython3",
   "version": "3.7.6"
  }
 },
 "nbformat": 4,
 "nbformat_minor": 4
}
