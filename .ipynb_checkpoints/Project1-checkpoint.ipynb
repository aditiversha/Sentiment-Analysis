{
 "cells": [
  {
   "cell_type": "code",
   "execution_count": 1,
   "metadata": {},
   "outputs": [],
   "source": [
    "#This project requires you to download yfinance, BeautifulSoup, Matplotlib & NLTK packages. \n",
    "#Incase you don't have them installed, type the following commands in your python terminal - (python version 3.7).\n",
    "#pip install yfinance\n",
    "#pip install beautifulsoup4\n",
    "#pip install nltk\n",
    "#pip install matplotlib"
   ]
  },
  {
   "cell_type": "markdown",
   "metadata": {},
   "source": [
    "## Importing Libraries"
   ]
  },
  {
   "cell_type": "code",
   "execution_count": 2,
   "metadata": {},
   "outputs": [],
   "source": [
    "#importing libraries\n",
    "from urllib.request import urlopen, Request\n",
    "from bs4 import BeautifulSoup\n",
    "import nltk\n",
    "#Uncomment the line below if your system does not have 'vader-lexicon' installed\n",
    "#nltk.download('vader_lexicon')"
   ]
  },
  {
   "cell_type": "code",
   "execution_count": 3,
   "metadata": {},
   "outputs": [],
   "source": [
    "from nltk.sentiment.vader import SentimentIntensityAnalyzer\n",
    "import pandas as pd\n",
    "import matplotlib.pyplot as plt\n",
    "import yfinance as yf"
   ]
  },
  {
   "cell_type": "markdown",
   "metadata": {},
   "source": [
    "## Data Processing\n",
    "\n",
    "#### Includes the following:\n",
    "1. Choosing Tickers\n",
    "2. Requesting data from URL\n",
    "3. Data Processing"
   ]
  },
  {
   "cell_type": "code",
   "execution_count": 4,
   "metadata": {},
   "outputs": [],
   "source": [
    "#Defining finviz url\n",
    "finviz_url = 'https://finviz.com/quote.ashx?t='"
   ]
  },
  {
   "cell_type": "code",
   "execution_count": 5,
   "metadata": {},
   "outputs": [],
   "source": [
    "tickers = ['AMZN','FB', 'GOOG','AAPL']"
   ]
  },
  {
   "cell_type": "code",
   "execution_count": 6,
   "metadata": {},
   "outputs": [],
   "source": [
    "news_tables = {}"
   ]
  },
  {
   "cell_type": "code",
   "execution_count": 7,
   "metadata": {},
   "outputs": [],
   "source": [
    "#Requesting data \n",
    "for ticker in tickers:\n",
    "    url = finviz_url + ticker\n",
    "    req = Request(url = url, headers = {'user-agent':'my-app'})\n",
    "    response = urlopen(req)\n",
    "    \n",
    "    #Parsing HTML documents using Beautiful Soup\n",
    "    html = BeautifulSoup(response,'html')\n",
    "    \n",
    "    #Saving the News Table in a dictionary\n",
    "    news_table = html.find(id = 'news-table')\n",
    "    news_tables[ticker] = news_table"
   ]
  },
  {
   "cell_type": "code",
   "execution_count": 8,
   "metadata": {},
   "outputs": [],
   "source": [
    "#Test Run\n",
    "#fb_data = news_table['FB']\n",
    "#fb_rows = fb_data.findAll('tr')"
   ]
  },
  {
   "cell_type": "code",
   "execution_count": 9,
   "metadata": {},
   "outputs": [],
   "source": [
    "#for index, row in enumerate(fb_rows):\n",
    "    #title = row.a.text()\n",
    "    #timestamp = row.td.text\n",
    "    #print(timestamp + ' ' + title)"
   ]
  },
  {
   "cell_type": "code",
   "execution_count": 10,
   "metadata": {},
   "outputs": [],
   "source": [
    "parsed_data=[]"
   ]
  },
  {
   "cell_type": "code",
   "execution_count": 11,
   "metadata": {},
   "outputs": [],
   "source": [
    "#Decomposing the dictionary 4 into relevant items - Ticker, Date,Time, News Title\n",
    "for ticker, news_table in news_tables.items():\n",
    "    for row in news_table.findAll('tr'):\n",
    "        title = row.a.get_text()\n",
    "        #Splitting date after every space\n",
    "        date_data = row.td.text.split(' ')\n",
    "        \n",
    "        #Check if date_data has two elements (date + time) or just 1 element (time)\n",
    "        if len(date_data)==1:\n",
    "            time=date_data[0]\n",
    "        else:\n",
    "            date = date_data[0]\n",
    "            time = date_data[1]\n",
    "        \n",
    "        #Appending decomposed items into a list\n",
    "        parsed_data.append([ticker, date, time, title])"
   ]
  },
  {
   "cell_type": "code",
   "execution_count": 12,
   "metadata": {},
   "outputs": [],
   "source": [
    "#Converting list into dataframe\n",
    "df = pd.DataFrame(parsed_data,columns=['Ticker', 'Date', 'Time', 'Title'])"
   ]
  },
  {
   "cell_type": "code",
   "execution_count": 13,
   "metadata": {},
   "outputs": [
    {
     "data": {
      "text/html": [
       "<div>\n",
       "<style scoped>\n",
       "    .dataframe tbody tr th:only-of-type {\n",
       "        vertical-align: middle;\n",
       "    }\n",
       "\n",
       "    .dataframe tbody tr th {\n",
       "        vertical-align: top;\n",
       "    }\n",
       "\n",
       "    .dataframe thead th {\n",
       "        text-align: right;\n",
       "    }\n",
       "</style>\n",
       "<table border=\"1\" class=\"dataframe\">\n",
       "  <thead>\n",
       "    <tr style=\"text-align: right;\">\n",
       "      <th></th>\n",
       "      <th>Ticker</th>\n",
       "      <th>Date</th>\n",
       "      <th>Time</th>\n",
       "      <th>Title</th>\n",
       "    </tr>\n",
       "  </thead>\n",
       "  <tbody>\n",
       "    <tr>\n",
       "      <th>0</th>\n",
       "      <td>AMZN</td>\n",
       "      <td>Mar-08-21</td>\n",
       "      <td>02:11AM</td>\n",
       "      <td>Sequoia-Backed Driverless Truck Startup Seeks ...</td>\n",
       "    </tr>\n",
       "    <tr>\n",
       "      <th>1</th>\n",
       "      <td>AMZN</td>\n",
       "      <td>Mar-08-21</td>\n",
       "      <td>01:13AM</td>\n",
       "      <td>Billionaire philanthropist MacKenzie Scott rem...</td>\n",
       "    </tr>\n",
       "    <tr>\n",
       "      <th>2</th>\n",
       "      <td>AMZN</td>\n",
       "      <td>Mar-08-21</td>\n",
       "      <td>12:25AM</td>\n",
       "      <td>Online Funerals, Zen Apps Keep Japans Buddhist...</td>\n",
       "    </tr>\n",
       "    <tr>\n",
       "      <th>3</th>\n",
       "      <td>AMZN</td>\n",
       "      <td>Mar-07-21</td>\n",
       "      <td>11:11PM</td>\n",
       "      <td>Billionaire Mackenzie Scott marries science te...</td>\n",
       "    </tr>\n",
       "    <tr>\n",
       "      <th>4</th>\n",
       "      <td>AMZN</td>\n",
       "      <td>Mar-07-21</td>\n",
       "      <td>09:30PM</td>\n",
       "      <td>Amazon Billionaire And Jeff Bezos Ex-Wife Mack...</td>\n",
       "    </tr>\n",
       "  </tbody>\n",
       "</table>\n",
       "</div>"
      ],
      "text/plain": [
       "  Ticker       Date       Time  \\\n",
       "0   AMZN  Mar-08-21  02:11AM     \n",
       "1   AMZN  Mar-08-21  01:13AM     \n",
       "2   AMZN  Mar-08-21  12:25AM     \n",
       "3   AMZN  Mar-07-21  11:11PM     \n",
       "4   AMZN  Mar-07-21  09:30PM     \n",
       "\n",
       "                                               Title  \n",
       "0  Sequoia-Backed Driverless Truck Startup Seeks ...  \n",
       "1  Billionaire philanthropist MacKenzie Scott rem...  \n",
       "2  Online Funerals, Zen Apps Keep Japans Buddhist...  \n",
       "3  Billionaire Mackenzie Scott marries science te...  \n",
       "4  Amazon Billionaire And Jeff Bezos Ex-Wife Mack...  "
      ]
     },
     "execution_count": 13,
     "metadata": {},
     "output_type": "execute_result"
    }
   ],
   "source": [
    "df.head()"
   ]
  },
  {
   "cell_type": "markdown",
   "metadata": {},
   "source": [
    "## Calculating Sentiment Score of the Text\n",
    "\n",
    "#### Includes the following\n",
    "1. Compute compound scores using polarity_scores()\n",
    "2. Convert String Date to Date Format\n",
    "3. Compute mean of compound scores & store it new dataframe\n",
    "4. Processing the above dataframe for easy usage"
   ]
  },
  {
   "cell_type": "code",
   "execution_count": 14,
   "metadata": {},
   "outputs": [],
   "source": [
    "#Calling Sentiment Intensity Analyzer Function & assigning it to variable 'vader'\n",
    "vader = SentimentIntensityAnalyzer()"
   ]
  },
  {
   "cell_type": "code",
   "execution_count": 15,
   "metadata": {},
   "outputs": [],
   "source": [
    "#Function 'f' to calculate polarity scores of News Title\n",
    "#Interested only in compound Scores\n",
    "f = lambda title: vader.polarity_scores(title)['compound']\n",
    "df['Compound'] = df['Title'].apply(f)"
   ]
  },
  {
   "cell_type": "code",
   "execution_count": 16,
   "metadata": {},
   "outputs": [
    {
     "data": {
      "text/html": [
       "<div>\n",
       "<style scoped>\n",
       "    .dataframe tbody tr th:only-of-type {\n",
       "        vertical-align: middle;\n",
       "    }\n",
       "\n",
       "    .dataframe tbody tr th {\n",
       "        vertical-align: top;\n",
       "    }\n",
       "\n",
       "    .dataframe thead th {\n",
       "        text-align: right;\n",
       "    }\n",
       "</style>\n",
       "<table border=\"1\" class=\"dataframe\">\n",
       "  <thead>\n",
       "    <tr style=\"text-align: right;\">\n",
       "      <th></th>\n",
       "      <th>Ticker</th>\n",
       "      <th>Date</th>\n",
       "      <th>Time</th>\n",
       "      <th>Title</th>\n",
       "      <th>Compound</th>\n",
       "    </tr>\n",
       "  </thead>\n",
       "  <tbody>\n",
       "    <tr>\n",
       "      <th>0</th>\n",
       "      <td>AMZN</td>\n",
       "      <td>Mar-08-21</td>\n",
       "      <td>02:11AM</td>\n",
       "      <td>Sequoia-Backed Driverless Truck Startup Seeks ...</td>\n",
       "      <td>0.0000</td>\n",
       "    </tr>\n",
       "    <tr>\n",
       "      <th>1</th>\n",
       "      <td>AMZN</td>\n",
       "      <td>Mar-08-21</td>\n",
       "      <td>01:13AM</td>\n",
       "      <td>Billionaire philanthropist MacKenzie Scott rem...</td>\n",
       "      <td>0.0000</td>\n",
       "    </tr>\n",
       "    <tr>\n",
       "      <th>2</th>\n",
       "      <td>AMZN</td>\n",
       "      <td>Mar-08-21</td>\n",
       "      <td>12:25AM</td>\n",
       "      <td>Online Funerals, Zen Apps Keep Japans Buddhist...</td>\n",
       "      <td>-0.3818</td>\n",
       "    </tr>\n",
       "    <tr>\n",
       "      <th>3</th>\n",
       "      <td>AMZN</td>\n",
       "      <td>Mar-07-21</td>\n",
       "      <td>11:11PM</td>\n",
       "      <td>Billionaire Mackenzie Scott marries science te...</td>\n",
       "      <td>0.0000</td>\n",
       "    </tr>\n",
       "    <tr>\n",
       "      <th>4</th>\n",
       "      <td>AMZN</td>\n",
       "      <td>Mar-07-21</td>\n",
       "      <td>09:30PM</td>\n",
       "      <td>Amazon Billionaire And Jeff Bezos Ex-Wife Mack...</td>\n",
       "      <td>0.1779</td>\n",
       "    </tr>\n",
       "  </tbody>\n",
       "</table>\n",
       "</div>"
      ],
      "text/plain": [
       "  Ticker       Date       Time  \\\n",
       "0   AMZN  Mar-08-21  02:11AM     \n",
       "1   AMZN  Mar-08-21  01:13AM     \n",
       "2   AMZN  Mar-08-21  12:25AM     \n",
       "3   AMZN  Mar-07-21  11:11PM     \n",
       "4   AMZN  Mar-07-21  09:30PM     \n",
       "\n",
       "                                               Title  Compound  \n",
       "0  Sequoia-Backed Driverless Truck Startup Seeks ...    0.0000  \n",
       "1  Billionaire philanthropist MacKenzie Scott rem...    0.0000  \n",
       "2  Online Funerals, Zen Apps Keep Japans Buddhist...   -0.3818  \n",
       "3  Billionaire Mackenzie Scott marries science te...    0.0000  \n",
       "4  Amazon Billionaire And Jeff Bezos Ex-Wife Mack...    0.1779  "
      ]
     },
     "execution_count": 16,
     "metadata": {},
     "output_type": "execute_result"
    }
   ],
   "source": [
    "df.head()"
   ]
  },
  {
   "cell_type": "code",
   "execution_count": 17,
   "metadata": {},
   "outputs": [],
   "source": [
    "#Converting Date column (string) data into Date format\n",
    "df['Date'] = pd.to_datetime(df.Date).dt.date"
   ]
  },
  {
   "cell_type": "code",
   "execution_count": 18,
   "metadata": {},
   "outputs": [
    {
     "data": {
      "text/html": [
       "<div>\n",
       "<style scoped>\n",
       "    .dataframe tbody tr th:only-of-type {\n",
       "        vertical-align: middle;\n",
       "    }\n",
       "\n",
       "    .dataframe tbody tr th {\n",
       "        vertical-align: top;\n",
       "    }\n",
       "\n",
       "    .dataframe thead th {\n",
       "        text-align: right;\n",
       "    }\n",
       "</style>\n",
       "<table border=\"1\" class=\"dataframe\">\n",
       "  <thead>\n",
       "    <tr style=\"text-align: right;\">\n",
       "      <th></th>\n",
       "      <th></th>\n",
       "      <th>Compound</th>\n",
       "    </tr>\n",
       "    <tr>\n",
       "      <th>Ticker</th>\n",
       "      <th>Date</th>\n",
       "      <th></th>\n",
       "    </tr>\n",
       "  </thead>\n",
       "  <tbody>\n",
       "    <tr>\n",
       "      <th rowspan=\"5\" valign=\"top\">AAPL</th>\n",
       "      <th>2021-03-02</th>\n",
       "      <td>0.159700</td>\n",
       "    </tr>\n",
       "    <tr>\n",
       "      <th>2021-03-03</th>\n",
       "      <td>0.054955</td>\n",
       "    </tr>\n",
       "    <tr>\n",
       "      <th>2021-03-04</th>\n",
       "      <td>0.093544</td>\n",
       "    </tr>\n",
       "    <tr>\n",
       "      <th>2021-03-05</th>\n",
       "      <td>0.135752</td>\n",
       "    </tr>\n",
       "    <tr>\n",
       "      <th>2021-03-06</th>\n",
       "      <td>0.335583</td>\n",
       "    </tr>\n",
       "  </tbody>\n",
       "</table>\n",
       "</div>"
      ],
      "text/plain": [
       "                   Compound\n",
       "Ticker Date                \n",
       "AAPL   2021-03-02  0.159700\n",
       "       2021-03-03  0.054955\n",
       "       2021-03-04  0.093544\n",
       "       2021-03-05  0.135752\n",
       "       2021-03-06  0.335583"
      ]
     },
     "execution_count": 18,
     "metadata": {},
     "output_type": "execute_result"
    }
   ],
   "source": [
    "#Creating a new dataframe using Groupby function & storing mean of compound scores\n",
    "mean_df = df.groupby(['Ticker','Date']).mean()\n",
    "mean_df.head()"
   ]
  },
  {
   "cell_type": "code",
   "execution_count": null,
   "metadata": {},
   "outputs": [],
   "source": [
    "mean_df.tail()"
   ]
  },
  {
   "cell_type": "code",
   "execution_count": 19,
   "metadata": {},
   "outputs": [
    {
     "data": {
      "text/html": [
       "<div>\n",
       "<style scoped>\n",
       "    .dataframe tbody tr th:only-of-type {\n",
       "        vertical-align: middle;\n",
       "    }\n",
       "\n",
       "    .dataframe tbody tr th {\n",
       "        vertical-align: top;\n",
       "    }\n",
       "\n",
       "    .dataframe thead th {\n",
       "        text-align: right;\n",
       "    }\n",
       "</style>\n",
       "<table border=\"1\" class=\"dataframe\">\n",
       "  <thead>\n",
       "    <tr style=\"text-align: right;\">\n",
       "      <th>Ticker</th>\n",
       "      <th>AAPL</th>\n",
       "      <th>AMZN</th>\n",
       "      <th>FB</th>\n",
       "      <th>GOOG</th>\n",
       "    </tr>\n",
       "    <tr>\n",
       "      <th>Date</th>\n",
       "      <th></th>\n",
       "      <th></th>\n",
       "      <th></th>\n",
       "      <th></th>\n",
       "    </tr>\n",
       "  </thead>\n",
       "  <tbody>\n",
       "    <tr>\n",
       "      <th>2021-02-26</th>\n",
       "      <td>NaN</td>\n",
       "      <td>NaN</td>\n",
       "      <td>0.039333</td>\n",
       "      <td>NaN</td>\n",
       "    </tr>\n",
       "    <tr>\n",
       "      <th>2021-02-27</th>\n",
       "      <td>NaN</td>\n",
       "      <td>NaN</td>\n",
       "      <td>-0.008258</td>\n",
       "      <td>NaN</td>\n",
       "    </tr>\n",
       "    <tr>\n",
       "      <th>2021-02-28</th>\n",
       "      <td>NaN</td>\n",
       "      <td>NaN</td>\n",
       "      <td>0.214378</td>\n",
       "      <td>0.526700</td>\n",
       "    </tr>\n",
       "    <tr>\n",
       "      <th>2021-03-01</th>\n",
       "      <td>NaN</td>\n",
       "      <td>NaN</td>\n",
       "      <td>0.106559</td>\n",
       "      <td>-0.055346</td>\n",
       "    </tr>\n",
       "    <tr>\n",
       "      <th>2021-03-02</th>\n",
       "      <td>0.1597</td>\n",
       "      <td>NaN</td>\n",
       "      <td>-0.005910</td>\n",
       "      <td>-0.060182</td>\n",
       "    </tr>\n",
       "  </tbody>\n",
       "</table>\n",
       "</div>"
      ],
      "text/plain": [
       "Ticker        AAPL  AMZN        FB      GOOG\n",
       "Date                                        \n",
       "2021-02-26     NaN   NaN  0.039333       NaN\n",
       "2021-02-27     NaN   NaN -0.008258       NaN\n",
       "2021-02-28     NaN   NaN  0.214378  0.526700\n",
       "2021-03-01     NaN   NaN  0.106559 -0.055346\n",
       "2021-03-02  0.1597   NaN -0.005910 -0.060182"
      ]
     },
     "execution_count": 19,
     "metadata": {},
     "output_type": "execute_result"
    }
   ],
   "source": [
    "#convert the dataframe into unstacked format.\n",
    "mean_df = mean_df.unstack()\n",
    "\n",
    "#Transposing the matrix:\n",
    "#1. Ticker Row is converted to Columns\n",
    "#2. The xs() function is used to get cross-section from the Series/DataFrame.\n",
    "#This method takes a key argument to select data at a particular level of a MultiIndex.\n",
    "\n",
    "mean_df = mean_df.xs('Compound',axis='columns').transpose()\n",
    "mean_df.head()"
   ]
  },
  {
   "cell_type": "code",
   "execution_count": 21,
   "metadata": {},
   "outputs": [
    {
     "data": {
      "image/png": "[encoded data removed]",
      "text/plain": [
       "<Figure size 1080x576 with 1 Axes>"
      ]
     },
     "metadata": {
      "needs_background": "light"
     },
     "output_type": "display_data"
    }
   ],
   "source": [
    "#Plot Compound Scores of each stock into a Bar chart\n",
    "mean_df.plot(kind='bar',figsize=(15,8),grid=True)\n",
    "plt.show()"
   ]
  },
  {
   "cell_type": "markdown",
   "metadata": {},
   "source": [
    "## Download historical data\n",
    "\n",
    "#### Includes the following:\n",
    "1. Download Historical Data\n",
    "2. Calculate Daily Returns "
   ]
  },
  {
   "cell_type": "code",
   "execution_count": 30,
   "metadata": {},
   "outputs": [
    {
     "name": "stdout",
     "output_type": "stream",
     "text": [
      "[*********************100%***********************]  1 of 1 completed\n",
      "[*********************100%***********************]  1 of 1 completed\n",
      "[*********************100%***********************]  1 of 1 completed\n",
      "[*********************100%***********************]  1 of 1 completed\n"
     ]
    }
   ],
   "source": [
    "#Downloading historical data using yfinance. We are interested only in 'Adjusted Closing Price'\n",
    "df2 = pd.DataFrame()\n",
    "#Assigning the startdate as the first date in mean_df dataframe\n",
    "startdate = mean_df.index[0]\n",
    "#Optional : Assigning the enddate as the last date in mean_df dataframe\n",
    "enddate = mean_df.index[-1]\n",
    "for ticker in tickers:\n",
    "    df2[ticker] = yf.download(ticker,start = startdate, end = enddate)['Adj Close']"
   ]
  },
  {
   "cell_type": "code",
   "execution_count": 29,
   "metadata": {},
   "outputs": [
    {
     "data": {
      "text/html": [
       "<div>\n",
       "<style scoped>\n",
       "    .dataframe tbody tr th:only-of-type {\n",
       "        vertical-align: middle;\n",
       "    }\n",
       "\n",
       "    .dataframe tbody tr th {\n",
       "        vertical-align: top;\n",
       "    }\n",
       "\n",
       "    .dataframe thead th {\n",
       "        text-align: right;\n",
       "    }\n",
       "</style>\n",
       "<table border=\"1\" class=\"dataframe\">\n",
       "  <thead>\n",
       "    <tr style=\"text-align: right;\">\n",
       "      <th></th>\n",
       "      <th>AMZN</th>\n",
       "      <th>FB</th>\n",
       "      <th>GOOG</th>\n",
       "      <th>AAPL</th>\n",
       "    </tr>\n",
       "    <tr>\n",
       "      <th>Date</th>\n",
       "      <th></th>\n",
       "      <th></th>\n",
       "      <th></th>\n",
       "      <th></th>\n",
       "    </tr>\n",
       "  </thead>\n",
       "  <tbody>\n",
       "    <tr>\n",
       "      <th>2021-02-25</th>\n",
       "      <td>3057.159912</td>\n",
       "      <td>254.690002</td>\n",
       "      <td>2031.359985</td>\n",
       "      <td>120.989998</td>\n",
       "    </tr>\n",
       "    <tr>\n",
       "      <th>2021-02-26</th>\n",
       "      <td>3092.929932</td>\n",
       "      <td>257.619995</td>\n",
       "      <td>2036.859985</td>\n",
       "      <td>121.260002</td>\n",
       "    </tr>\n",
       "    <tr>\n",
       "      <th>2021-03-01</th>\n",
       "      <td>3146.139893</td>\n",
       "      <td>264.910004</td>\n",
       "      <td>2081.510010</td>\n",
       "      <td>127.790001</td>\n",
       "    </tr>\n",
       "    <tr>\n",
       "      <th>2021-03-02</th>\n",
       "      <td>3094.530029</td>\n",
       "      <td>259.000000</td>\n",
       "      <td>2075.840088</td>\n",
       "      <td>125.120003</td>\n",
       "    </tr>\n",
       "    <tr>\n",
       "      <th>2021-03-03</th>\n",
       "      <td>3005.000000</td>\n",
       "      <td>255.410004</td>\n",
       "      <td>2026.709961</td>\n",
       "      <td>122.059998</td>\n",
       "    </tr>\n",
       "  </tbody>\n",
       "</table>\n",
       "</div>"
      ],
      "text/plain": [
       "                   AMZN          FB         GOOG        AAPL\n",
       "Date                                                        \n",
       "2021-02-25  3057.159912  254.690002  2031.359985  120.989998\n",
       "2021-02-26  3092.929932  257.619995  2036.859985  121.260002\n",
       "2021-03-01  3146.139893  264.910004  2081.510010  127.790001\n",
       "2021-03-02  3094.530029  259.000000  2075.840088  125.120003\n",
       "2021-03-03  3005.000000  255.410004  2026.709961  122.059998"
      ]
     },
     "execution_count": 29,
     "metadata": {},
     "output_type": "execute_result"
    }
   ],
   "source": [
    "df2.head()"
   ]
  },
  {
   "cell_type": "code",
   "execution_count": 31,
   "metadata": {},
   "outputs": [
    {
     "data": {
      "text/html": [
       "<div>\n",
       "<style scoped>\n",
       "    .dataframe tbody tr th:only-of-type {\n",
       "        vertical-align: middle;\n",
       "    }\n",
       "\n",
       "    .dataframe tbody tr th {\n",
       "        vertical-align: top;\n",
       "    }\n",
       "\n",
       "    .dataframe thead th {\n",
       "        text-align: right;\n",
       "    }\n",
       "</style>\n",
       "<table border=\"1\" class=\"dataframe\">\n",
       "  <thead>\n",
       "    <tr style=\"text-align: right;\">\n",
       "      <th></th>\n",
       "      <th>AMZN</th>\n",
       "      <th>FB</th>\n",
       "      <th>GOOG</th>\n",
       "      <th>AAPL</th>\n",
       "    </tr>\n",
       "    <tr>\n",
       "      <th>Date</th>\n",
       "      <th></th>\n",
       "      <th></th>\n",
       "      <th></th>\n",
       "      <th></th>\n",
       "    </tr>\n",
       "  </thead>\n",
       "  <tbody>\n",
       "    <tr>\n",
       "      <th>2021-03-01</th>\n",
       "      <td>3146.139893</td>\n",
       "      <td>264.910004</td>\n",
       "      <td>2081.510010</td>\n",
       "      <td>127.790001</td>\n",
       "    </tr>\n",
       "    <tr>\n",
       "      <th>2021-03-02</th>\n",
       "      <td>3094.530029</td>\n",
       "      <td>259.000000</td>\n",
       "      <td>2075.840088</td>\n",
       "      <td>125.120003</td>\n",
       "    </tr>\n",
       "    <tr>\n",
       "      <th>2021-03-03</th>\n",
       "      <td>3005.000000</td>\n",
       "      <td>255.410004</td>\n",
       "      <td>2026.709961</td>\n",
       "      <td>122.059998</td>\n",
       "    </tr>\n",
       "    <tr>\n",
       "      <th>2021-03-04</th>\n",
       "      <td>2977.570068</td>\n",
       "      <td>257.640015</td>\n",
       "      <td>2049.090088</td>\n",
       "      <td>120.129997</td>\n",
       "    </tr>\n",
       "    <tr>\n",
       "      <th>2021-03-05</th>\n",
       "      <td>3000.459961</td>\n",
       "      <td>264.279999</td>\n",
       "      <td>2108.540039</td>\n",
       "      <td>121.419998</td>\n",
       "    </tr>\n",
       "  </tbody>\n",
       "</table>\n",
       "</div>"
      ],
      "text/plain": [
       "                   AMZN          FB         GOOG        AAPL\n",
       "Date                                                        \n",
       "2021-03-01  3146.139893  264.910004  2081.510010  127.790001\n",
       "2021-03-02  3094.530029  259.000000  2075.840088  125.120003\n",
       "2021-03-03  3005.000000  255.410004  2026.709961  122.059998\n",
       "2021-03-04  2977.570068  257.640015  2049.090088  120.129997\n",
       "2021-03-05  3000.459961  264.279999  2108.540039  121.419998"
      ]
     },
     "execution_count": 31,
     "metadata": {},
     "output_type": "execute_result"
    }
   ],
   "source": [
    "df2.tail()"
   ]
  },
  {
   "cell_type": "code",
   "execution_count": 24,
   "metadata": {
    "scrolled": true
   },
   "outputs": [
    {
     "data": {
      "text/html": [
       "<div>\n",
       "<style scoped>\n",
       "    .dataframe tbody tr th:only-of-type {\n",
       "        vertical-align: middle;\n",
       "    }\n",
       "\n",
       "    .dataframe tbody tr th {\n",
       "        vertical-align: top;\n",
       "    }\n",
       "\n",
       "    .dataframe thead th {\n",
       "        text-align: right;\n",
       "    }\n",
       "</style>\n",
       "<table border=\"1\" class=\"dataframe\">\n",
       "  <thead>\n",
       "    <tr style=\"text-align: right;\">\n",
       "      <th></th>\n",
       "      <th>AMZN</th>\n",
       "      <th>FB</th>\n",
       "      <th>GOOG</th>\n",
       "      <th>AAPL</th>\n",
       "    </tr>\n",
       "    <tr>\n",
       "      <th>Date</th>\n",
       "      <th></th>\n",
       "      <th></th>\n",
       "      <th></th>\n",
       "      <th></th>\n",
       "    </tr>\n",
       "  </thead>\n",
       "  <tbody>\n",
       "    <tr>\n",
       "      <th>2021-03-01</th>\n",
       "      <td>0.017204</td>\n",
       "      <td>0.028298</td>\n",
       "      <td>0.021921</td>\n",
       "      <td>0.053851</td>\n",
       "    </tr>\n",
       "    <tr>\n",
       "      <th>2021-03-02</th>\n",
       "      <td>-0.016404</td>\n",
       "      <td>-0.022309</td>\n",
       "      <td>-0.002724</td>\n",
       "      <td>-0.020894</td>\n",
       "    </tr>\n",
       "    <tr>\n",
       "      <th>2021-03-03</th>\n",
       "      <td>-0.028932</td>\n",
       "      <td>-0.013861</td>\n",
       "      <td>-0.023668</td>\n",
       "      <td>-0.024457</td>\n",
       "    </tr>\n",
       "    <tr>\n",
       "      <th>2021-03-04</th>\n",
       "      <td>-0.009128</td>\n",
       "      <td>0.008731</td>\n",
       "      <td>0.011043</td>\n",
       "      <td>-0.015812</td>\n",
       "    </tr>\n",
       "    <tr>\n",
       "      <th>2021-03-05</th>\n",
       "      <td>0.007687</td>\n",
       "      <td>0.025772</td>\n",
       "      <td>0.029013</td>\n",
       "      <td>0.010738</td>\n",
       "    </tr>\n",
       "  </tbody>\n",
       "</table>\n",
       "</div>"
      ],
      "text/plain": [
       "                AMZN        FB      GOOG      AAPL\n",
       "Date                                              \n",
       "2021-03-01  0.017204  0.028298  0.021921  0.053851\n",
       "2021-03-02 -0.016404 -0.022309 -0.002724 -0.020894\n",
       "2021-03-03 -0.028932 -0.013861 -0.023668 -0.024457\n",
       "2021-03-04 -0.009128  0.008731  0.011043 -0.015812\n",
       "2021-03-05  0.007687  0.025772  0.029013  0.010738"
      ]
     },
     "execution_count": 24,
     "metadata": {},
     "output_type": "execute_result"
    }
   ],
   "source": [
    "#Daily Returns\n",
    "df2_returns = df2.pct_change()\n",
    "df2_returns.tail()"
   ]
  },
  {
   "cell_type": "markdown",
   "metadata": {},
   "source": [
    "## Data Analysis\n",
    "\n",
    "#### Includes the following:\n",
    "1. Understand the correlation between Daily Returns & Sentiment Score\n",
    "2. Visualize the data"
   ]
  },
  {
   "cell_type": "code",
   "execution_count": null,
   "metadata": {},
   "outputs": [],
   "source": []
  }
 ],
 "metadata": {
  "kernelspec": {
   "display_name": "Python 3",
   "language": "python",
   "name": "python3"
  },
  "language_info": {
   "codemirror_mode": {
    "name": "ipython",
    "version": 3
   },
   "file_extension": ".py",
   "mimetype": "text/x-python",
   "name": "python",
   "nbconvert_exporter": "python",
   "pygments_lexer": "ipython3",
   "version": "3.7.6"
  }
 },
 "nbformat": 4,
 "nbformat_minor": 4
}
